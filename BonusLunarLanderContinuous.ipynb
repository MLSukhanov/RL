{
  "nbformat": 4,
  "nbformat_minor": 0,
  "metadata": {
    "colab": {
      "provenance": []
    },
    "kernelspec": {
      "name": "python3",
      "display_name": "Python 3"
    },
    "language_info": {
      "name": "python"
    }
  },
  "cells": [
    {
      "cell_type": "code",
      "source": [
        "import sys, os\n",
        "if 'google.colab' in sys.modules and not os.path.exists('.setup_complete'):\n",
        "    !wget -q https://raw.githubusercontent.com/yandexdataschool/Practical_RL/master/setup_colab.sh -O- | bash\n",
        "    !touch .setup_complete\n",
        "\n",
        "# This code creates a virtual display to draw game images on.\n",
        "# It will have no effect if your machine has a monitor.\n",
        "if type(os.environ.get(\"DISPLAY\")) is not str or len(os.environ.get(\"DISPLAY\")) == 0:\n",
        "    !bash ../xvfb start\n",
        "    os.environ['DISPLAY'] = ':1'"
      ],
      "metadata": {
        "colab": {
          "base_uri": "https://localhost:8080/"
        },
        "id": "Guf1OTR61uih",
        "outputId": "40eaad8d-f4f9-4cfe-f818-d1ccc5a44a7d"
      },
      "execution_count": 6,
      "outputs": [
        {
          "output_type": "stream",
          "name": "stdout",
          "text": [
            "W: Skipping acquire of configured file 'main/source/Sources' as repository 'https://r2u.stat.illinois.edu/ubuntu jammy InRelease' does not seem to provide it (sources.list entry misspelt?)\n",
            "Selecting previously unselected package libfontenc1:amd64.\n",
            "(Reading database ... 125044 files and directories currently installed.)\n",
            "Preparing to unpack .../0-libfontenc1_1%3a1.1.4-1build3_amd64.deb ...\n",
            "Unpacking libfontenc1:amd64 (1:1.1.4-1build3) ...\n",
            "Selecting previously unselected package libxfont2:amd64.\n",
            "Preparing to unpack .../1-libxfont2_1%3a2.0.5-1build1_amd64.deb ...\n",
            "Unpacking libxfont2:amd64 (1:2.0.5-1build1) ...\n",
            "Selecting previously unselected package libxkbfile1:amd64.\n",
            "Preparing to unpack .../2-libxkbfile1_1%3a1.1.0-1build3_amd64.deb ...\n",
            "Unpacking libxkbfile1:amd64 (1:1.1.0-1build3) ...\n",
            "Selecting previously unselected package x11-xkb-utils.\n",
            "Preparing to unpack .../3-x11-xkb-utils_7.7+5build4_amd64.deb ...\n",
            "Unpacking x11-xkb-utils (7.7+5build4) ...\n",
            "Selecting previously unselected package xfonts-encodings.\n",
            "Preparing to unpack .../4-xfonts-encodings_1%3a1.0.5-0ubuntu2_all.deb ...\n",
            "Unpacking xfonts-encodings (1:1.0.5-0ubuntu2) ...\n",
            "Selecting previously unselected package xfonts-utils.\n",
            "Preparing to unpack .../5-xfonts-utils_1%3a7.7+6build2_amd64.deb ...\n",
            "Unpacking xfonts-utils (1:7.7+6build2) ...\n",
            "Selecting previously unselected package xfonts-base.\n",
            "Preparing to unpack .../6-xfonts-base_1%3a1.0.5_all.deb ...\n",
            "Unpacking xfonts-base (1:1.0.5) ...\n",
            "Selecting previously unselected package xserver-common.\n",
            "Preparing to unpack .../7-xserver-common_2%3a21.1.4-2ubuntu1.7~22.04.13_all.deb ...\n",
            "Unpacking xserver-common (2:21.1.4-2ubuntu1.7~22.04.13) ...\n",
            "Selecting previously unselected package xvfb.\n",
            "Preparing to unpack .../8-xvfb_2%3a21.1.4-2ubuntu1.7~22.04.13_amd64.deb ...\n",
            "Unpacking xvfb (2:21.1.4-2ubuntu1.7~22.04.13) ...\n",
            "Setting up libfontenc1:amd64 (1:1.1.4-1build3) ...\n",
            "Setting up xfonts-encodings (1:1.0.5-0ubuntu2) ...\n",
            "Setting up libxkbfile1:amd64 (1:1.1.0-1build3) ...\n",
            "Setting up libxfont2:amd64 (1:2.0.5-1build1) ...\n",
            "Setting up x11-xkb-utils (7.7+5build4) ...\n",
            "Setting up xfonts-utils (1:7.7+6build2) ...\n",
            "Setting up xfonts-base (1:1.0.5) ...\n",
            "Setting up xserver-common (2:21.1.4-2ubuntu1.7~22.04.13) ...\n",
            "Setting up xvfb (2:21.1.4-2ubuntu1.7~22.04.13) ...\n",
            "Processing triggers for man-db (2.10.2-1) ...\n",
            "Processing triggers for fontconfig (2.13.1-4.2ubuntu5) ...\n",
            "Processing triggers for libc-bin (2.35-0ubuntu3.8) ...\n",
            "/sbin/ldconfig.real: /usr/local/lib/libtcm_debug.so.1 is not a symbolic link\n",
            "\n",
            "/sbin/ldconfig.real: /usr/local/lib/libtbbbind.so.3 is not a symbolic link\n",
            "\n",
            "/sbin/ldconfig.real: /usr/local/lib/libtbbmalloc_proxy.so.2 is not a symbolic link\n",
            "\n",
            "/sbin/ldconfig.real: /usr/local/lib/libtbb.so.12 is not a symbolic link\n",
            "\n",
            "/sbin/ldconfig.real: /usr/local/lib/libtbbmalloc.so.2 is not a symbolic link\n",
            "\n",
            "/sbin/ldconfig.real: /usr/local/lib/libhwloc.so.15 is not a symbolic link\n",
            "\n",
            "/sbin/ldconfig.real: /usr/local/lib/libtcm.so.1 is not a symbolic link\n",
            "\n",
            "/sbin/ldconfig.real: /usr/local/lib/libur_adapter_opencl.so.0 is not a symbolic link\n",
            "\n",
            "/sbin/ldconfig.real: /usr/local/lib/libur_loader.so.0 is not a symbolic link\n",
            "\n",
            "/sbin/ldconfig.real: /usr/local/lib/libtbbbind_2_0.so.3 is not a symbolic link\n",
            "\n",
            "/sbin/ldconfig.real: /usr/local/lib/libtbbbind_2_5.so.3 is not a symbolic link\n",
            "\n",
            "/sbin/ldconfig.real: /usr/local/lib/libumf.so.0 is not a symbolic link\n",
            "\n",
            "/sbin/ldconfig.real: /usr/local/lib/libur_adapter_level_zero.so.0 is not a symbolic link\n",
            "\n",
            "Starting virtual X frame buffer: Xvfb.\n"
          ]
        }
      ]
    },
    {
      "cell_type": "code",
      "source": [
        "# Install gymnasium if you didn't\n",
        "!pip install \"gymnasium[toy_text,classic_control]\""
      ],
      "metadata": {
        "colab": {
          "base_uri": "https://localhost:8080/"
        },
        "id": "mCJNvMId11SY",
        "outputId": "232803b3-9b37-4b4e-acad-ec8ef05838f3"
      },
      "execution_count": 7,
      "outputs": [
        {
          "output_type": "stream",
          "name": "stdout",
          "text": [
            "Requirement already satisfied: gymnasium[classic_control,toy_text] in /usr/local/lib/python3.11/dist-packages (1.1.1)\n",
            "Requirement already satisfied: numpy>=1.21.0 in /usr/local/lib/python3.11/dist-packages (from gymnasium[classic_control,toy_text]) (1.26.4)\n",
            "Requirement already satisfied: cloudpickle>=1.2.0 in /usr/local/lib/python3.11/dist-packages (from gymnasium[classic_control,toy_text]) (3.1.1)\n",
            "Requirement already satisfied: typing-extensions>=4.3.0 in /usr/local/lib/python3.11/dist-packages (from gymnasium[classic_control,toy_text]) (4.12.2)\n",
            "Requirement already satisfied: farama-notifications>=0.0.1 in /usr/local/lib/python3.11/dist-packages (from gymnasium[classic_control,toy_text]) (0.0.4)\n",
            "Requirement already satisfied: pygame>=2.1.3 in /usr/local/lib/python3.11/dist-packages (from gymnasium[classic_control,toy_text]) (2.6.1)\n"
          ]
        }
      ]
    },
    {
      "cell_type": "code",
      "execution_count": 26,
      "metadata": {
        "id": "Slv01Tj0xgfA"
      },
      "outputs": [],
      "source": [
        "import torch\n",
        "from torch import nn\n",
        "import numpy as np\n",
        "import gym\n",
        "import random\n",
        "import matplotlib.pyplot as plt\n",
        "\n",
        "class CEMContinuous(nn.Module):\n",
        "    def __init__(self, state_dim, action_dim):\n",
        "        super().__init__()\n",
        "        self.state_dim = state_dim\n",
        "        self.action_dim = action_dim\n",
        "\n",
        "        #self.network2 = nn.Sequential(\n",
        "        #    nn.Linear(self.state_dim, 64),\n",
        "        #    nn.LeakyReLU(),\n",
        "        #    nn.Linear(64, self.action_dim),\n",
        "        #    nn.Tanh()\n",
        "        #)\n",
        "\n",
        "        self.network = nn.Sequential(\n",
        "            nn.Linear(state_dim, 128),\n",
        "            nn.ReLU(),\n",
        "            nn.Linear(128, 128),\n",
        "            nn.ReLU(),\n",
        "            nn.Linear(128, action_dim),\n",
        "            nn.Tanh())\n",
        "        self.loss = torch.nn.SmoothL1Loss()\n",
        "        self.optimizer = torch.optim.Adam(self.parameters(), lr=0.001)\n",
        "\n",
        "    def forward(self, _input):\n",
        "        return self.network(_input)\n",
        "\n",
        "    def get_action(self, state, noise_std=0.1):\n",
        "        state = torch.FloatTensor(state).unsqueeze(0)\n",
        "        action = self.forward(state).squeeze().detach().numpy()\n",
        "       # print(action)\n",
        "        noise =  noise_std * np.random.randn(self.action_dim)\n",
        "        action += noise\n",
        "       # print(noise)\n",
        "        action = np.clip(action, env.action_space.low[0], env.action_space.high[0])\n",
        "        return action\n",
        "\n",
        "\n",
        "    def update_policy(self, elite_trajectories):\n",
        "        elite_states = []\n",
        "        elite_actions = []\n",
        "        for elite_trajectory in elite_trajectories:\n",
        "            for state, action in zip(elite_trajectory['states'], elite_trajectory['actions']):\n",
        "                elite_states.append(state)\n",
        "                elite_actions.append(action)\n",
        "\n",
        "        if not elite_states:\n",
        "            print(\"No elite states collected. Check the trajectories.\")\n",
        "            return\n",
        "\n",
        "        elite_states = torch.FloatTensor(np.array(elite_states))\n",
        "        elite_actions = torch.FloatTensor(np.array(elite_actions))\n",
        "        for epoch in range(10):\n",
        "            loss = self.loss(self.forward(elite_states).squeeze(), elite_actions)\n",
        "            loss.backward()\n",
        "            self.optimizer.step()\n",
        "            self.optimizer.zero_grad()"
      ]
    },
    {
      "cell_type": "code",
      "source": [
        "def get_trajectory(env, agent, trajectory_len, noise_std=0.1, visualize=False):\n",
        "    trajectory = {'states': [], 'actions': [], 'total_reward': 0}\n",
        "\n",
        "    state = env.reset()\n",
        "    trajectory['states'].append(state)\n",
        "\n",
        "    for _ in range(trajectory_len):\n",
        "        action = agent.get_action(state, noise_std)\n",
        "        trajectory['actions'].append(action)\n",
        "\n",
        "        state, reward, done, _ = env.step(action)\n",
        "        trajectory['total_reward'] += reward\n",
        "        if done:\n",
        "            break\n",
        "\n",
        "        if visualize:\n",
        "            env.render()\n",
        "\n",
        "        trajectory['states'].append(state)\n",
        "\n",
        "    return trajectory"
      ],
      "metadata": {
        "id": "8NDGZD-Z0pfM"
      },
      "execution_count": 27,
      "outputs": []
    },
    {
      "cell_type": "code",
      "source": [
        "elite_container = []\n",
        "def get_elite_trajectories(trajectories, q_param):\n",
        "    total_rewards = [trajectory['total_reward'] for trajectory in trajectories]\n",
        "    quantile = np.quantile(total_rewards, q=q_param)\n",
        "\n",
        "    for trajectory in trajectories:\n",
        "        if trajectory['total_reward'] > 200:\n",
        "            elite_container.append(trajectory)\n",
        "\n",
        "    return [trajectory for trajectory in trajectories if trajectory['total_reward'] > quantile]"
      ],
      "metadata": {
        "id": "6SsJ80v00uKN"
      },
      "execution_count": 28,
      "outputs": []
    },
    {
      "cell_type": "code",
      "source": [
        "!pip install swig"
      ],
      "metadata": {
        "colab": {
          "base_uri": "https://localhost:8080/"
        },
        "id": "pG9goXn22td8",
        "outputId": "4139ddb1-232e-423e-f7c0-80688b2e6e0a"
      },
      "execution_count": 29,
      "outputs": [
        {
          "output_type": "stream",
          "name": "stdout",
          "text": [
            "Requirement already satisfied: swig in /usr/local/lib/python3.11/dist-packages (4.3.0)\n"
          ]
        }
      ]
    },
    {
      "cell_type": "code",
      "source": [
        "!pip install gymnasium[box2d]"
      ],
      "metadata": {
        "colab": {
          "base_uri": "https://localhost:8080/"
        },
        "id": "lLy5wbfH2vz-",
        "outputId": "0714f2ae-4ddd-4b7f-a904-f34320f5f0fb"
      },
      "execution_count": 13,
      "outputs": [
        {
          "output_type": "stream",
          "name": "stdout",
          "text": [
            "Requirement already satisfied: gymnasium[box2d] in /usr/local/lib/python3.11/dist-packages (1.1.1)\n",
            "Requirement already satisfied: numpy>=1.21.0 in /usr/local/lib/python3.11/dist-packages (from gymnasium[box2d]) (1.26.4)\n",
            "Requirement already satisfied: cloudpickle>=1.2.0 in /usr/local/lib/python3.11/dist-packages (from gymnasium[box2d]) (3.1.1)\n",
            "Requirement already satisfied: typing-extensions>=4.3.0 in /usr/local/lib/python3.11/dist-packages (from gymnasium[box2d]) (4.12.2)\n",
            "Requirement already satisfied: farama-notifications>=0.0.1 in /usr/local/lib/python3.11/dist-packages (from gymnasium[box2d]) (0.0.4)\n",
            "Collecting box2d-py==2.3.5 (from gymnasium[box2d])\n",
            "  Downloading box2d-py-2.3.5.tar.gz (374 kB)\n",
            "\u001b[2K     \u001b[90m━━━━━━━━━━━━━━━━━━━━━━━━━━━━━━━━━━━━━━━━\u001b[0m \u001b[32m374.4/374.4 kB\u001b[0m \u001b[31m6.5 MB/s\u001b[0m eta \u001b[36m0:00:00\u001b[0m\n",
            "\u001b[?25h  Preparing metadata (setup.py) ... \u001b[?25l\u001b[?25hdone\n",
            "Requirement already satisfied: pygame>=2.1.3 in /usr/local/lib/python3.11/dist-packages (from gymnasium[box2d]) (2.6.1)\n",
            "Requirement already satisfied: swig==4.* in /usr/local/lib/python3.11/dist-packages (from gymnasium[box2d]) (4.3.0)\n",
            "Building wheels for collected packages: box2d-py\n",
            "  Building wheel for box2d-py (setup.py) ... \u001b[?25l\u001b[?25hdone\n",
            "  Created wheel for box2d-py: filename=box2d_py-2.3.5-cp311-cp311-linux_x86_64.whl size=2379495 sha256=1e096d68bd7e89dc6401c5f84615b14630225c59f92fb0cfd2688882f228c238\n",
            "  Stored in directory: /root/.cache/pip/wheels/ab/f1/0c/d56f4a2bdd12bae0a0693ec33f2f0daadb5eb9753c78fa5308\n",
            "Successfully built box2d-py\n",
            "Installing collected packages: box2d-py\n",
            "Successfully installed box2d-py-2.3.5\n"
          ]
        }
      ]
    },
    {
      "cell_type": "code",
      "source": [
        "env = gym.make('LunarLander-v2', continuous=True)\n",
        "state_dim = env.observation_space.shape[0]\n",
        "action_dim = env.action_space.shape[0]"
      ],
      "metadata": {
        "id": "FhM7m_OI0ySq"
      },
      "execution_count": 33,
      "outputs": []
    },
    {
      "cell_type": "code",
      "source": [
        "import numpy as np\n",
        "import matplotlib.pyplot as plt\n",
        "def run_cem_agent(agent, episode_n, trajectory_n, trajectory_len, start_sigma, end_sigma, start_q, end_q, coef):\n",
        "    scores = []\n",
        "    for episode in range(episode_n):\n",
        "        trajectories = []\n",
        "        for _ in range(trajectory_n):\n",
        "            cur = episode\n",
        "            if cur > coef:\n",
        "                cur = coef\n",
        "            noise_std = start_sigma - (start_sigma - end_sigma) * cur / coef\n",
        "            trajectory = get_trajectory(env, agent, trajectory_len, noise_std)\n",
        "            trajectories.append(trajectory)\n",
        "\n",
        "        q_param = start_q + (end_q - start_q) * episode / episode_n\n",
        "        elite_trajectories = get_elite_trajectories(trajectories, q_param)\n",
        "\n",
        "        agent.update_policy(elite_trajectories)\n",
        "\n",
        "        episode_rewards = [trajectory['total_reward'] for trajectory in trajectories]\n",
        "        mean_reward = np.mean(episode_rewards)\n",
        "        scores.append(mean_reward)\n",
        "\n",
        "    return scores"
      ],
      "metadata": {
        "id": "ppurFLfJ1K7j"
      },
      "execution_count": 34,
      "outputs": []
    },
    {
      "cell_type": "code",
      "source": [
        "episode_n = 100\n",
        "trajectory_n = 30\n",
        "trajectory_len = 100\n",
        "start_sigma = 0.9\n",
        "end_sigma = 0.05\n",
        "start_q = 0.8\n",
        "end_q = 0.95\n",
        "coef = episode_n / 2\n",
        "\n",
        "num_agents = 2\n",
        "all_scores_CEM = []\n",
        "for _ in range(num_agents):\n",
        "    agent = CEMContinuous(state_dim, action_dim)\n",
        "    agent_scores = run_cem_agent(agent, episode_n, trajectory_n, trajectory_len, start_sigma, end_sigma, start_q, end_q, coef)\n",
        "    all_scores_CEM.append(agent_scores)\n",
        "\n",
        "avg_scores = np.mean(np.array(all_scores_CEM), axis=0)\n",
        "\n",
        "total_trajectories = np.arange(trajectory_n, episode_n * trajectory_n + 1, trajectory_n)\n",
        "\n",
        "plt.plot(total_trajectories, avg_scores)\n",
        "plt.title('Average Rewards per Number of Trajectories')\n",
        "plt.xlabel('Total Number of Trajectories')\n",
        "plt.ylabel('Average Reward')\n",
        "plt.grid()\n",
        "plt.show()"
      ],
      "metadata": {
        "colab": {
          "base_uri": "https://localhost:8080/",
          "height": 472
        },
        "id": "1KtWGosz1TEY",
        "outputId": "86a7f399-6a57-474c-8a6f-69494e032bbf"
      },
      "execution_count": 35,
      "outputs": [
        {
          "output_type": "display_data",
          "data": {
            "text/plain": [
              "<Figure size 640x480 with 1 Axes>"
            ],
            "image/png": "[encoded data removed]"
          },
          "metadata": {}
        }
      ]
    }
  ]
}